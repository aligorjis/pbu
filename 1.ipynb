{
 "cells": [
  {
   "cell_type": "markdown",
   "metadata": {},
   "source": [
    "Equations"
   ]
  },
  {
   "cell_type": "code",
   "execution_count": null,
   "metadata": {},
   "outputs": [],
   "source": []
  },
  {
   "cell_type": "markdown",
   "metadata": {},
   "source": [
    "$ Y_{warehouse}(t) =  Y_{warehouse}(t-1) + x_{delivered}(t) - x_{load}(t) $\n",
    "\n",
    "\n",
    "$ Y_{parking}(t) =  Y_{parking}(t-1) + x_{load}(t) - x_{hoist}(t) $\n",
    "\n",
    "\n",
    "$ Y_{Hoist}(t) =  Y_{Hoist}(t-1) + x_{hoist}(t) - x_{install}(t) $\n",
    "\n",
    "\n",
    "$ Y_{install}(t) =  Y_{install}(t-1) + x_{install}(t) $\n",
    "\n",
    "\n"
   ]
  },
  {
   "cell_type": "code",
   "execution_count": 1,
   "metadata": {},
   "outputs": [],
   "source": [
    "import pandas as pd \n",
    "import datetime\n",
    "import numpy as np\n",
    "from ortools.linear_solver import pywraplp\n",
    "import matplotlib.pyplot as plt\n",
    "%matplotlib inline"
   ]
  },
  {
   "cell_type": "markdown",
   "metadata": {},
   "source": [
    "## Setting up the optimization"
   ]
  },
  {
   "cell_type": "code",
   "execution_count": 2,
   "metadata": {},
   "outputs": [],
   "source": [
    "# Create the mip solver with the SCIP backend.\n",
    "solver = pywraplp.Solver.CreateSolver('SCIP')\n",
    " \n",
    " "
   ]
  },
  {
   "cell_type": "markdown",
   "metadata": {},
   "source": [
    "## Generate Random delivery Data"
   ]
  },
  {
   "cell_type": "code",
   "execution_count": 3,
   "metadata": {},
   "outputs": [],
   "source": [
    "delivery=pd.DataFrame([])\n",
    "delivery[\"date\"]=pd.date_range(start='1/1/2022', end='4/30/2022')\n",
    "deli=[]\n",
    "for i in range(len(delivery)):\n",
    "    if sum(deli) <= 44 :\n",
    "        deli.append(np.random.poisson(1,1)[0])\n",
    "    else :\n",
    "        deli.append(0)\n",
    "deli = np.array(deli)\n",
    "\n",
    "delivery[\"shipment\"]=deli\n",
    "#delivery[\"shipment\"]=0\n",
    "#delivery[\"shipment\"].iloc[0:89]=1\n",
    "\n",
    "delivery[\"time_index\"]=range(1,len(delivery)+1)\n",
    "n=len(delivery)"
   ]
  },
  {
   "cell_type": "code",
   "execution_count": 4,
   "metadata": {},
   "outputs": [
    {
     "data": {
      "text/plain": [
       "0     2022-01-01\n",
       "1     2022-01-02\n",
       "2     2022-01-03\n",
       "3     2022-01-04\n",
       "4     2022-01-05\n",
       "         ...    \n",
       "115   2022-04-26\n",
       "116   2022-04-27\n",
       "117   2022-04-28\n",
       "118   2022-04-29\n",
       "119   2022-04-30\n",
       "Name: date, Length: 120, dtype: datetime64[ns]"
      ]
     },
     "execution_count": 4,
     "metadata": {},
     "output_type": "execute_result"
    }
   ],
   "source": [
    "delivery[\"date\"]"
   ]
  },
  {
   "cell_type": "code",
   "execution_count": 5,
   "metadata": {},
   "outputs": [
    {
     "data": {
      "text/plain": [
       "1"
      ]
     },
     "execution_count": 5,
     "metadata": {},
     "output_type": "execute_result"
    }
   ],
   "source": [
    "np.random.poisson(1,1)[0]"
   ]
  },
  {
   "cell_type": "code",
   "execution_count": 6,
   "metadata": {},
   "outputs": [
    {
     "data": {
      "text/html": [
       "<div>\n",
       "<style scoped>\n",
       "    .dataframe tbody tr th:only-of-type {\n",
       "        vertical-align: middle;\n",
       "    }\n",
       "\n",
       "    .dataframe tbody tr th {\n",
       "        vertical-align: top;\n",
       "    }\n",
       "\n",
       "    .dataframe thead th {\n",
       "        text-align: right;\n",
       "    }\n",
       "</style>\n",
       "<table border=\"1\" class=\"dataframe\">\n",
       "  <thead>\n",
       "    <tr style=\"text-align: right;\">\n",
       "      <th></th>\n",
       "      <th>date</th>\n",
       "      <th>shipment</th>\n",
       "      <th>time_index</th>\n",
       "    </tr>\n",
       "  </thead>\n",
       "  <tbody>\n",
       "    <tr>\n",
       "      <th>0</th>\n",
       "      <td>2022-01-01</td>\n",
       "      <td>3</td>\n",
       "      <td>1</td>\n",
       "    </tr>\n",
       "    <tr>\n",
       "      <th>1</th>\n",
       "      <td>2022-01-02</td>\n",
       "      <td>0</td>\n",
       "      <td>2</td>\n",
       "    </tr>\n",
       "    <tr>\n",
       "      <th>2</th>\n",
       "      <td>2022-01-03</td>\n",
       "      <td>0</td>\n",
       "      <td>3</td>\n",
       "    </tr>\n",
       "    <tr>\n",
       "      <th>3</th>\n",
       "      <td>2022-01-04</td>\n",
       "      <td>2</td>\n",
       "      <td>4</td>\n",
       "    </tr>\n",
       "    <tr>\n",
       "      <th>4</th>\n",
       "      <td>2022-01-05</td>\n",
       "      <td>0</td>\n",
       "      <td>5</td>\n",
       "    </tr>\n",
       "  </tbody>\n",
       "</table>\n",
       "</div>"
      ],
      "text/plain": [
       "        date  shipment  time_index\n",
       "0 2022-01-01         3           1\n",
       "1 2022-01-02         0           2\n",
       "2 2022-01-03         0           3\n",
       "3 2022-01-04         2           4\n",
       "4 2022-01-05         0           5"
      ]
     },
     "execution_count": 6,
     "metadata": {},
     "output_type": "execute_result"
    }
   ],
   "source": [
    "delivery.head()"
   ]
  },
  {
   "cell_type": "markdown",
   "metadata": {},
   "source": [
    "## Defining Variables"
   ]
  },
  {
   "cell_type": "markdown",
   "metadata": {},
   "source": [
    "$x_{delivered}(t)$     $~~~~~~~~~~~~~~~~$     PBUs delivered into the warehouse at each time frame\n",
    "\n",
    "$Y_{warehouse}(t)$     $~~~~~~~~~~~~~~~~$     PBUs in warehouse at each time frame\n",
    "\n",
    "$x_{load}(t)$     $~~~~~~~~~~~~~~~~$     PBUs loaded from the warehouse into the parking at each time frame\n",
    "\n",
    "$Y_{parked}(t)$     $~~~~~~~~~~~~~~~~$     PBUs in parking at each time frame\n",
    "\n",
    "$x_{hoist}(t)$     $~~~~~~~~~~~~~~~~$     PBUs selected from the parking, and and to be hoisted at each time frame\n",
    "\n",
    "$Y_{hoisted}(t)$     $~~~~~~~~~~~~~~~~$     PBUs which are hoisted at each time frame\n",
    "\n",
    "$x_{install}(t)$     $~~~~~~~~~~~~~~~~$     PBUs selected from the hoisted ones, and to be installed at each time frame\n",
    "\n",
    "$Y_{installed}(t)$     $~~~~~~~~~~~~~~~~$     PBUs installed at each time frame\n",
    "\n",
    "\n",
    "\n",
    "$C_{hoist}$     $~~~~~~~~~~~~~~~~$     Maximum PBUs can be hoisted at each time frame\n",
    "\n",
    "$C_{install}$     $~~~~~~~~~~~~~~~~$     Maximum PBUs can be installed at each time frame\n",
    "\n",
    "$C_{parked}$     $~~~~~~~~~~~~~~~~$     Maximum PBUs in parking at each time frame\n",
    "\n",
    "$C_{load}$     $~~~~~~~~~~~~~~~~$     Maximum PBUs loaded from the warehouse into the parking at each time frame\n",
    "\n",
    "$C_{installed}$     $~~~~~~~~~~~~~~~~$   Maximum  PBUs installed "
   ]
  },
  {
   "cell_type": "code",
   "execution_count": 7,
   "metadata": {},
   "outputs": [],
   "source": [
    "C_hoist= 10\n",
    "C_install= 8\n",
    "C_parked= 30\n",
    "C_load=50\n",
    "C_installed=44"
   ]
  },
  {
   "cell_type": "code",
   "execution_count": 8,
   "metadata": {},
   "outputs": [],
   "source": [
    "Initial_Warehouse_Quantity=0"
   ]
  },
  {
   "cell_type": "code",
   "execution_count": 9,
   "metadata": {},
   "outputs": [],
   "source": [
    "infinity = solver.infinity()\n",
    "Y_warehouse={}\n",
    "\n",
    "for i in range (0,n):\n",
    "    Y_warehouse[i]=solver.IntVar(lb=0,ub=infinity,name=\"Y_warehouse_%i\" % i)"
   ]
  },
  {
   "cell_type": "code",
   "execution_count": 10,
   "metadata": {},
   "outputs": [],
   "source": [
    "Y_parked={}\n",
    "\n",
    "for i in range (0,n):\n",
    "    Y_parked[i]=solver.IntVar(lb=0,ub=C_parked,name=\"Y_parked_%i\" % i)"
   ]
  },
  {
   "cell_type": "code",
   "execution_count": 11,
   "metadata": {},
   "outputs": [],
   "source": [
    "x_load={}\n",
    "\n",
    "for i in range (0,n):\n",
    "    x_load[i]=solver.IntVar(lb=0,ub=C_load,name=\"x_load_%i\" % i)"
   ]
  },
  {
   "cell_type": "code",
   "execution_count": 12,
   "metadata": {},
   "outputs": [],
   "source": [
    "x_hoist={}\n",
    "for i in range (0,n):\n",
    "    x_hoist[i]=solver.IntVar(lb=0,ub=C_hoist,name=\"x_hoist_%i\" % i)"
   ]
  },
  {
   "cell_type": "code",
   "execution_count": 13,
   "metadata": {},
   "outputs": [],
   "source": [
    "Y_hoisted={}\n",
    "for i in range (0,n):\n",
    "    Y_hoisted[i]=solver.IntVar(lb=0,ub=C_hoist,name=\"Y_hoisted_%i\" % i)"
   ]
  },
  {
   "cell_type": "code",
   "execution_count": 14,
   "metadata": {},
   "outputs": [],
   "source": [
    "x_install={}\n",
    "for i in range (0,n):\n",
    "    x_install[i]=solver.IntVar(lb=0,ub=C_install,name=\"x_install_%i\" % i)"
   ]
  },
  {
   "cell_type": "code",
   "execution_count": 15,
   "metadata": {},
   "outputs": [],
   "source": [
    "Y_installed={}\n",
    "for i in range (0,n):\n",
    "    Y_installed[i]=solver.IntVar(lb=0,ub=C_installed,name=\"Y_installed_%i\" % i)"
   ]
  },
  {
   "cell_type": "code",
   "execution_count": 16,
   "metadata": {},
   "outputs": [
    {
     "name": "stdout",
     "output_type": "stream",
     "text": [
      "Number of variables = 840\n"
     ]
    }
   ],
   "source": [
    "print('Number of variables =', solver.NumVariables())"
   ]
  },
  {
   "cell_type": "markdown",
   "metadata": {},
   "source": [
    "## Defining Mathematical Relationship Between Variables "
   ]
  },
  {
   "cell_type": "markdown",
   "metadata": {},
   "source": [
    "The number of the PBUs in the warehouse at time $t$ = The number of the PBUs in the warehouse at time $t-1$  +  the number of PBUs delivered to warehouse at time $t$   -  the number of PBUs loaded from warehouse to parking at time $t$"
   ]
  },
  {
   "cell_type": "markdown",
   "metadata": {},
   "source": [
    "$ Y_{warehouse}(t) =  Y_{warehouse}(t-1) + x_{delivered}(t) - x_{load}(t) $\n"
   ]
  },
  {
   "cell_type": "code",
   "execution_count": 17,
   "metadata": {},
   "outputs": [],
   "source": [
    "for t in range(1,n):\n",
    "    solver.Add(Y_warehouse[t] == Y_warehouse[t-1] + delivery[\"shipment\"].values[t] - x_load[t])"
   ]
  },
  {
   "cell_type": "markdown",
   "metadata": {},
   "source": [
    "The number of PBUs in parking at time $t$ = The number of PBUs in parking at time $t-1$ + The number of PBUs loaded from warehouse to parking at time $t$ - The number of PBUs selected from the parking, and to be hoisted at time $t$"
   ]
  },
  {
   "cell_type": "markdown",
   "metadata": {},
   "source": [
    "$ Y_{parked}(t) =  Y_{parked}(t-1) + x_{load}(t) - x_{hoist}(t) $\n"
   ]
  },
  {
   "cell_type": "code",
   "execution_count": 18,
   "metadata": {},
   "outputs": [],
   "source": [
    "for t in range(1,n):\n",
    "    solver.Add(Y_parked[t] == Y_parked[t-1] + x_load[t] - x_hoist[t])"
   ]
  },
  {
   "cell_type": "markdown",
   "metadata": {},
   "source": [
    "The number of PBUs which are hoisted at each time frame at time $t$ =  The number of PBUs which are hoisted at each time frame at time $t-1$ + The number of PBUs selected from the parking, and to be hoisted at time $t$ - The number PBUs selected from the hoisted ones, and to be installed at each time frame"
   ]
  },
  {
   "cell_type": "markdown",
   "metadata": {},
   "source": [
    "$ Y_{Hoisted}(t) =  Y_{Hoisted}(t-1) + x_{hoist}(t) - x_{install}(t) $\n"
   ]
  },
  {
   "cell_type": "code",
   "execution_count": 19,
   "metadata": {},
   "outputs": [],
   "source": [
    "for t in range(1,n):\n",
    "    solver.Add(Y_hoisted[t] == Y_hoisted[t-1] + x_hoist[t] - x_install[t])"
   ]
  },
  {
   "cell_type": "markdown",
   "metadata": {},
   "source": [
    "The Number of PBUs selected from the hoisted ones, and to be installed at each time frame at time $t$ = The Number of PBUs selected from the hoisted ones, and to be installed at each time frame at time $t-1$ + The number of PBUs selected from the hoisted ones, and to be installed at each time frame"
   ]
  },
  {
   "cell_type": "markdown",
   "metadata": {},
   "source": [
    "$ Y_{installed}(t) =  Y_{installed}(t-1) + x_{install}(t) $\n"
   ]
  },
  {
   "cell_type": "code",
   "execution_count": 20,
   "metadata": {},
   "outputs": [],
   "source": [
    "for t in range(1,n):\n",
    "    solver.Add(Y_installed[t] == Y_installed[t-1] + x_install[t])"
   ]
  },
  {
   "cell_type": "code",
   "execution_count": 21,
   "metadata": {},
   "outputs": [],
   "source": [
    "Initial_Warehouse_Quantity=0"
   ]
  },
  {
   "cell_type": "code",
   "execution_count": 22,
   "metadata": {},
   "outputs": [
    {
     "data": {
      "text/plain": [
       "<ortools.linear_solver.pywraplp.Constraint; proxy of <Swig Object of type 'operations_research::MPConstraint *' at 0x000001E041FFEA20> >"
      ]
     },
     "execution_count": 22,
     "metadata": {},
     "output_type": "execute_result"
    }
   ],
   "source": [
    "solver.Add(Y_warehouse[0] == Initial_Warehouse_Quantity)"
   ]
  },
  {
   "cell_type": "code",
   "execution_count": 23,
   "metadata": {},
   "outputs": [
    {
     "name": "stdout",
     "output_type": "stream",
     "text": [
      "Number of constraints = 477\n"
     ]
    }
   ],
   "source": [
    "print('Number of constraints =', solver.NumConstraints())"
   ]
  },
  {
   "cell_type": "code",
   "execution_count": 24,
   "metadata": {},
   "outputs": [],
   "source": [
    "KPI_warehouse=sum(Y_warehouse[i] for i in range( 0,n))\n",
    "KPI_installation= sum(Y_installed[i] for i in range( 0,n))"
   ]
  },
  {
   "cell_type": "code",
   "execution_count": 25,
   "metadata": {},
   "outputs": [
    {
     "data": {
      "text/plain": [
       "0"
      ]
     },
     "execution_count": 25,
     "metadata": {},
     "output_type": "execute_result"
    }
   ],
   "source": [
    "solver.Minimize(KPI_warehouse - KPI_installation )\n",
    "#Y_warehouse[89]\n",
    "solver.Solve()\n",
    "\n"
   ]
  },
  {
   "cell_type": "code",
   "execution_count": 26,
   "metadata": {},
   "outputs": [
    {
     "data": {
      "text/plain": [
       "-5268.0"
      ]
     },
     "execution_count": 26,
     "metadata": {},
     "output_type": "execute_result"
    }
   ],
   "source": [
    "solver.Objective().Value()"
   ]
  },
  {
   "cell_type": "code",
   "execution_count": 27,
   "metadata": {},
   "outputs": [
    {
     "data": {
      "text/plain": [
       "0"
      ]
     },
     "execution_count": 27,
     "metadata": {},
     "output_type": "execute_result"
    }
   ],
   "source": [
    "solver.OPTIMAL"
   ]
  },
  {
   "cell_type": "markdown",
   "metadata": {},
   "source": [
    "Y_parked"
   ]
  },
  {
   "cell_type": "code",
   "execution_count": 28,
   "metadata": {},
   "outputs": [],
   "source": [
    "Y_warehouse_solution=[Y_warehouse[i].solution_value() for i in range(0,n)]\n",
    "x_load_solution=[x_load[i].solution_value() for i in range(0,n)]\n",
    "Y_parked_solution=[Y_parked[i].solution_value() for i in range(0,n)]\n",
    "x_hoist_solution=[x_hoist[i].solution_value() for i in range(0,n)]\n",
    "Y_hoisted_solution=[Y_hoisted[i].solution_value() for i in range(0,n)]\n",
    "x_install_solution=[x_install[i].solution_value() for i in range(0,n)]\n",
    "Y_installed_solution=[Y_installed[i].solution_value() for i in range(0,n)]\n",
    " \n",
    " "
   ]
  },
  {
   "cell_type": "code",
   "execution_count": 29,
   "metadata": {},
   "outputs": [],
   "source": [
    "import matplotlib.dates as mdates\n"
   ]
  },
  {
   "cell_type": "code",
   "execution_count": 30,
   "metadata": {},
   "outputs": [
    {
     "data": {
      "image/png": "[encoded data removed]",
      "text/plain": [
       "<Figure size 1080x648 with 8 Axes>"
      ]
     },
     "metadata": {
      "needs_background": "light"
     },
     "output_type": "display_data"
    }
   ],
   "source": [
    "fig, ax = plt.subplots(4, 2 ,figsize= (15,9) )\n",
    " \n",
    "ax[0,0].plot(delivery[\"date\"],delivery[\"shipment\"].values)\n",
    "ax[0, 0].set_title(\"X_delivery\")\n",
    "ax[0, 0].tick_params(direction='out', length=10, width=1,labelrotation=45)\n",
    " \n",
    "  \n",
    "ax[0,1].plot(delivery[\"date\"],Y_warehouse_solution)\n",
    "ax[0, 1].set_title(\"Y_warehouse\")\n",
    "ax[0, 1].tick_params(direction='out', length=10, width=1,labelrotation=45)\n",
    "\n",
    "ax[1,0].plot(delivery[\"date\"],x_load_solution)\n",
    "ax[1,0].set_title(\"x_load\")\n",
    "ax[1,0].tick_params(direction='out', length=10, width=1,labelrotation=45)\n",
    "\n",
    "ax[1,1].plot(delivery[\"date\"],Y_parked_solution)\n",
    "ax[1, 1].set_title(\"Y_parked\")\n",
    "ax[1, 1].tick_params(direction='out', length=10, width=1,labelrotation=45)\n",
    "\n",
    "ax[2,0].plot(delivery[\"date\"],x_hoist_solution)\n",
    "ax[2, 0].set_title(\"x_hoist\")\n",
    "ax[2, 0].tick_params(direction='out', length=10, width=1,labelrotation=45)\n",
    "\n",
    "ax[2,1].plot(delivery[\"date\"],Y_hoisted_solution)\n",
    "ax[2, 1].set_title(\"Y_hoisted\")\n",
    "ax[2, 1].tick_params(direction='out', length=10, width=1,labelrotation=45)\n",
    "\n",
    "ax[3,0].plot(delivery[\"date\"],x_install_solution)\n",
    "ax[3, 0].set_title(\"x_install\")\n",
    "ax[3, 0].tick_params(direction='out', length=10, width=1,labelrotation=45)\n",
    "\n",
    "ax[3,1].plot(delivery[\"date\"],Y_installed_solution)\n",
    "ax[3, 1].set_title(\"Y_installed\")\n",
    "ax[3, 1].tick_params(direction='out', length=10, width=1,labelrotation=45)\n",
    "\n",
    "fig.suptitle(\"Visualization Of every variable size at each time frame\")\n",
    "fig.tight_layout()\n",
    "\n",
    " "
   ]
  },
  {
   "cell_type": "code",
   "execution_count": null,
   "metadata": {},
   "outputs": [],
   "source": []
  }
 ],
 "metadata": {
  "interpreter": {
   "hash": "6ca06adef6ebacd0a6930357c45431f5b53a692b77515071540fe922edf7706e"
  },
  "kernelspec": {
   "display_name": "Python 3.7.8 64-bit",
   "name": "python3"
  },
  "language_info": {
   "codemirror_mode": {
    "name": "ipython",
    "version": 3
   },
   "file_extension": ".py",
   "mimetype": "text/x-python",
   "name": "python",
   "nbconvert_exporter": "python",
   "pygments_lexer": "ipython3",
   "version": "3.7.8"
  },
  "nteract": {
   "version": "0.28.0"
  }
 },
 "nbformat": 4,
 "nbformat_minor": 2
}
