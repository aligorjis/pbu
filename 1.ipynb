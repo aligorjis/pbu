{
 "cells": [
  {
   "cell_type": "markdown",
   "metadata": {
    "nteract": {
     "transient": {
      "deleting": false
     }
    }
   },
   "source": [
    "1. Delivery\n",
    "2. Crane Operation Time - not being ready 8- 10\n",
    "3. Every unit cost 5000 $ - more than 4 worker\n",
    "4. only 4 types of pbu - 5, 10, 15 "
   ]
  },
  {
   "cell_type": "markdown",
   "metadata": {},
   "source": [
    "Equations"
   ]
  },
  {
   "cell_type": "markdown",
   "metadata": {},
   "source": [
    "$ Y_{warehouse}(t) =  Y_{warehouse}(t-1) + x_{delivered}(t) - x_{load}(t) $\n",
    "\n",
    "\n",
    "$ Y_{parking}(t) =  Y_{parking}(t-1) + x_{load}(t) - x_{hoist}(t) $\n",
    "\n",
    "\n",
    "$ Y_{Hoist}(t) =  Y_{Hoist}(t-1) + x_{hoist}(t) - x_{install}(t) $\n",
    "\n",
    "\n",
    "$ Y_{install}(t) =  Y_{install}(t-1) + x_{install}(t) $\n",
    "\n",
    "\n"
   ]
  },
  {
   "cell_type": "code",
   "execution_count": 1,
   "metadata": {},
   "outputs": [],
   "source": [
    "import pandas as pd \n",
    "import datetime\n",
    "import numpy as np\n",
    "from ortools.linear_solver import pywraplp\n",
    "import matplotlib.pyplot as plt\n",
    "%matplotlib inline"
   ]
  },
  {
   "cell_type": "markdown",
   "metadata": {},
   "source": [
    "## Setting up the optimization"
   ]
  },
  {
   "cell_type": "code",
   "execution_count": 2,
   "metadata": {},
   "outputs": [],
   "source": [
    "# Create the mip solver with the SCIP backend.\n",
    "solver = pywraplp.Solver.CreateSolver('SCIP')\n",
    " \n",
    " "
   ]
  },
  {
   "cell_type": "markdown",
   "metadata": {},
   "source": [
    "## Generate Random delivery Data"
   ]
  },
  {
   "cell_type": "code",
   "execution_count": 31,
   "metadata": {},
   "outputs": [
    {
     "name": "stderr",
     "output_type": "stream",
     "text": [
      "C:\\Users\\Aligo\\AppData\\Local\\Programs\\Python\\Python37\\lib\\site-packages\\pandas\\core\\indexing.py:670: SettingWithCopyWarning: \n",
      "A value is trying to be set on a copy of a slice from a DataFrame\n",
      "\n",
      "See the caveats in the documentation: https://pandas.pydata.org/pandas-docs/stable/user_guide/indexing.html#returning-a-view-versus-a-copy\n",
      "  iloc._setitem_with_indexer(indexer, value)\n"
     ]
    }
   ],
   "source": [
    "delivery=pd.DataFrame([])\n",
    "delivery[\"date\"]=pd.date_range(start='1/1/2022', end='4/30/2022')\n",
    "#delivery[\"shipment\"]=np.random.poisson(10, len(delivery))\n",
    "delivery[\"shipment\"]=0\n",
    "delivery[\"shipment\"].iloc[0:44]=1\n",
    "\n",
    "delivery[\"time_index\"]=range(1,len(delivery)+1)\n",
    "n=len(delivery)"
   ]
  },
  {
   "cell_type": "code",
   "execution_count": 32,
   "metadata": {},
   "outputs": [
    {
     "data": {
      "text/html": [
       "<div>\n",
       "<style scoped>\n",
       "    .dataframe tbody tr th:only-of-type {\n",
       "        vertical-align: middle;\n",
       "    }\n",
       "\n",
       "    .dataframe tbody tr th {\n",
       "        vertical-align: top;\n",
       "    }\n",
       "\n",
       "    .dataframe thead th {\n",
       "        text-align: right;\n",
       "    }\n",
       "</style>\n",
       "<table border=\"1\" class=\"dataframe\">\n",
       "  <thead>\n",
       "    <tr style=\"text-align: right;\">\n",
       "      <th></th>\n",
       "      <th>date</th>\n",
       "      <th>shipment</th>\n",
       "      <th>time_index</th>\n",
       "    </tr>\n",
       "  </thead>\n",
       "  <tbody>\n",
       "    <tr>\n",
       "      <th>0</th>\n",
       "      <td>2022-01-01</td>\n",
       "      <td>1</td>\n",
       "      <td>1</td>\n",
       "    </tr>\n",
       "    <tr>\n",
       "      <th>1</th>\n",
       "      <td>2022-01-02</td>\n",
       "      <td>1</td>\n",
       "      <td>2</td>\n",
       "    </tr>\n",
       "    <tr>\n",
       "      <th>2</th>\n",
       "      <td>2022-01-03</td>\n",
       "      <td>1</td>\n",
       "      <td>3</td>\n",
       "    </tr>\n",
       "    <tr>\n",
       "      <th>3</th>\n",
       "      <td>2022-01-04</td>\n",
       "      <td>1</td>\n",
       "      <td>4</td>\n",
       "    </tr>\n",
       "    <tr>\n",
       "      <th>4</th>\n",
       "      <td>2022-01-05</td>\n",
       "      <td>1</td>\n",
       "      <td>5</td>\n",
       "    </tr>\n",
       "  </tbody>\n",
       "</table>\n",
       "</div>"
      ],
      "text/plain": [
       "        date  shipment  time_index\n",
       "0 2022-01-01         1           1\n",
       "1 2022-01-02         1           2\n",
       "2 2022-01-03         1           3\n",
       "3 2022-01-04         1           4\n",
       "4 2022-01-05         1           5"
      ]
     },
     "execution_count": 32,
     "metadata": {},
     "output_type": "execute_result"
    }
   ],
   "source": [
    "delivery.head()"
   ]
  },
  {
   "cell_type": "markdown",
   "metadata": {},
   "source": [
    "## Defining Variables"
   ]
  },
  {
   "cell_type": "markdown",
   "metadata": {},
   "source": [
    "$x_{delivered}(t)$     $~~~~~~~~~~~~~~~~$     PBUs delivered into the warehouse at each time frame\n",
    "\n",
    "$Y_{warehouse}(t)$     $~~~~~~~~~~~~~~~~$     PBUs in warehouse at each time frame\n",
    "\n",
    "$x_{load}(t)$     $~~~~~~~~~~~~~~~~$     PBUs loaded from the warehouse into the parking at each time frame\n",
    "\n",
    "$Y_{parked}(t)$     $~~~~~~~~~~~~~~~~$     PBUs in parking at each time frame\n",
    "\n",
    "$x_{hoist}(t)$     $~~~~~~~~~~~~~~~~$     PBUs selected from the parking, and and to be hoisted at each time frame\n",
    "\n",
    "$Y_{hoisted}(t)$     $~~~~~~~~~~~~~~~~$     PBUs which are hoisted at each time frame\n",
    "\n",
    "$x_{install}(t)$     $~~~~~~~~~~~~~~~~$     PBUs selected from the hoisted ones, and to be installed at each time frame\n",
    "\n",
    "$Y_{installed}(t)$     $~~~~~~~~~~~~~~~~$     PBUs installed at each time frame\n",
    "\n",
    "\n",
    "\n",
    "$C_{hoist}$     $~~~~~~~~~~~~~~~~$     Maximum PBUs can be hoisted at each time frame\n",
    "\n",
    "$C_{install}$     $~~~~~~~~~~~~~~~~$     Maximum PBUs can be installed at each time frame\n",
    "\n",
    "$C_{parked}$     $~~~~~~~~~~~~~~~~$     Maximum PBUs in parking at each time frame\n",
    "\n",
    "$C_{load}$     $~~~~~~~~~~~~~~~~$     Maximum PBUs loaded from the warehouse into the parking at each time frame\n",
    "\n",
    "$C_{installed}$     $~~~~~~~~~~~~~~~~$   Maximum  PBUs installed "
   ]
  },
  {
   "cell_type": "code",
   "execution_count": 8,
   "metadata": {},
   "outputs": [],
   "source": [
    "C_hoist= 10\n",
    "C_install= 8\n",
    "C_parked= 30\n",
    "C_load=50\n",
    "C_installed=44"
   ]
  },
  {
   "cell_type": "code",
   "execution_count": 9,
   "metadata": {},
   "outputs": [],
   "source": [
    "Initial_Warehouse_Quantity=0"
   ]
  },
  {
   "cell_type": "code",
   "execution_count": 10,
   "metadata": {},
   "outputs": [],
   "source": [
    "infinity = solver.infinity()\n",
    "Y_warehouse={}\n",
    "\n",
    "for i in range (0,n):\n",
    "    Y_warehouse[i]=solver.IntVar(lb=0,ub=infinity,name=\"Y_warehouse_%i\" % i)"
   ]
  },
  {
   "cell_type": "code",
   "execution_count": 11,
   "metadata": {},
   "outputs": [],
   "source": [
    "Y_parked={}\n",
    "\n",
    "for i in range (0,n):\n",
    "    Y_parked[i]=solver.IntVar(lb=0,ub=C_parked,name=\"Y_parked_%i\" % i)"
   ]
  },
  {
   "cell_type": "code",
   "execution_count": 12,
   "metadata": {},
   "outputs": [],
   "source": [
    "x_load={}\n",
    "\n",
    "for i in range (0,n):\n",
    "    x_load[i]=solver.IntVar(lb=0,ub=C_load,name=\"x_load_%i\" % i)"
   ]
  },
  {
   "cell_type": "code",
   "execution_count": 13,
   "metadata": {},
   "outputs": [],
   "source": [
    "x_hoist={}\n",
    "for i in range (0,n):\n",
    "    x_hoist[i]=solver.IntVar(lb=0,ub=C_hoist,name=\"x_hoist_%i\" % i)"
   ]
  },
  {
   "cell_type": "code",
   "execution_count": 14,
   "metadata": {},
   "outputs": [],
   "source": [
    "Y_hoisted={}\n",
    "for i in range (0,n):\n",
    "    Y_hoisted[i]=solver.IntVar(lb=0,ub=C_hoist,name=\"Y_hoisted_%i\" % i)"
   ]
  },
  {
   "cell_type": "code",
   "execution_count": 15,
   "metadata": {},
   "outputs": [],
   "source": [
    "x_install={}\n",
    "for i in range (0,n):\n",
    "    x_install[i]=solver.IntVar(lb=0,ub=C_install,name=\"x_install_%i\" % i)"
   ]
  },
  {
   "cell_type": "code",
   "execution_count": 16,
   "metadata": {},
   "outputs": [],
   "source": [
    "Y_installed={}\n",
    "for i in range (0,n):\n",
    "    Y_installed[i]=solver.IntVar(lb=0,ub=C_installed,name=\"Y_installed_%i\" % i)"
   ]
  },
  {
   "cell_type": "code",
   "execution_count": 17,
   "metadata": {},
   "outputs": [
    {
     "name": "stdout",
     "output_type": "stream",
     "text": [
      "Number of variables = 840\n"
     ]
    }
   ],
   "source": [
    "print('Number of variables =', solver.NumVariables())\n"
   ]
  },
  {
   "cell_type": "code",
   "execution_count": null,
   "metadata": {},
   "outputs": [],
   "source": []
  },
  {
   "cell_type": "markdown",
   "metadata": {},
   "source": [
    "## Defining Mathematical Relationship Between Variables "
   ]
  },
  {
   "cell_type": "markdown",
   "metadata": {},
   "source": [
    "The number of the PBUs in the warehouse at time $t$ = The number of the PBUs in the warehouse at time $t-1$  +  the number of PBUs delivered to warehouse at time $t$   -  the number of PBUs loaded from warehouse to parking at time $t$"
   ]
  },
  {
   "cell_type": "markdown",
   "metadata": {},
   "source": [
    "$ Y_{warehouse}(t) =  Y_{warehouse}(t-1) + x_{delivered}(t) - x_{load}(t) $\n"
   ]
  },
  {
   "cell_type": "code",
   "execution_count": 18,
   "metadata": {},
   "outputs": [],
   "source": [
    "for t in range(1,n):\n",
    "    solver.Add(Y_warehouse[t]== Y_warehouse[t-1] + delivery[\"shipment\"].values[t] - x_load[t])\n"
   ]
  },
  {
   "cell_type": "markdown",
   "metadata": {},
   "source": [
    "The number of PBUs in parking at time $t$ = The number of PBUs in parking at time $t-1$ + The number of PBUs loaded from warehouse to parking at time $t$ - The number of PBUs selected from the parking, and to be hoisted at time $t$"
   ]
  },
  {
   "cell_type": "markdown",
   "metadata": {},
   "source": [
    "$ Y_{parked}(t) =  Y_{parked}(t-1) + x_{load}(t) - x_{hoist}(t) $\n"
   ]
  },
  {
   "cell_type": "code",
   "execution_count": 19,
   "metadata": {},
   "outputs": [],
   "source": [
    "for t in range(1,n):\n",
    "    solver.Add(Y_parked[t]== Y_parked[t-1] + x_load[t] - x_hoist[t])"
   ]
  },
  {
   "cell_type": "markdown",
   "metadata": {},
   "source": [
    "The number of PBUs which are hoisted at each time frame at time $t$ =  The number of PBUs which are hoisted at each time frame at time $t-1$ + The number of PBUs selected from the parking, and to be hoisted at time $t$ - The number PBUs selected from the hoisted ones, and to be installed at each time frame"
   ]
  },
  {
   "cell_type": "markdown",
   "metadata": {},
   "source": [
    "$ Y_{Hoist}(t) =  Y_{Hoist}(t-1) + x_{hoist}(t) - x_{install}(t) $\n"
   ]
  },
  {
   "cell_type": "code",
   "execution_count": 20,
   "metadata": {},
   "outputs": [],
   "source": [
    "for t in range(1,n):\n",
    "    solver.Add(Y_hoisted[t]== Y_hoisted[t-1] + x_hoist[t] - x_install[t])"
   ]
  },
  {
   "cell_type": "markdown",
   "metadata": {},
   "source": [
    "The Number of PBUs selected from the hoisted ones, and to be installed at each time frame at time $t$ = The Number of PBUs selected from the hoisted ones, and to be installed at each time frame at time $t-1$ + The number of PBUs selected from the hoisted ones, and to be installed at each time frame"
   ]
  },
  {
   "cell_type": "markdown",
   "metadata": {},
   "source": [
    "$ Y_{installed}(t) =  Y_{installed}(t-1) + x_{install}(t) $\n"
   ]
  },
  {
   "cell_type": "code",
   "execution_count": 21,
   "metadata": {},
   "outputs": [],
   "source": [
    "for t in range(1,n):\n",
    "    solver.Add(Y_installed[t]== Y_installed[t-1] + x_install[t])"
   ]
  },
  {
   "cell_type": "code",
   "execution_count": 22,
   "metadata": {},
   "outputs": [],
   "source": [
    "Initial_Warehouse_Quantity=0"
   ]
  },
  {
   "cell_type": "code",
   "execution_count": 33,
   "metadata": {},
   "outputs": [
    {
     "data": {
      "text/plain": [
       "<ortools.linear_solver.pywraplp.Constraint; proxy of <Swig Object of type 'operations_research::MPConstraint *' at 0x0000022AFD935720> >"
      ]
     },
     "execution_count": 33,
     "metadata": {},
     "output_type": "execute_result"
    }
   ],
   "source": [
    "solver.Add(Y_warehouse[0] ==Initial_Warehouse_Quantity)"
   ]
  },
  {
   "cell_type": "code",
   "execution_count": 34,
   "metadata": {},
   "outputs": [
    {
     "name": "stdout",
     "output_type": "stream",
     "text": [
      "Number of constraints = 478\n"
     ]
    }
   ],
   "source": [
    "print('Number of constraints =', solver.NumConstraints())"
   ]
  },
  {
   "cell_type": "code",
   "execution_count": 35,
   "metadata": {},
   "outputs": [],
   "source": [
    "KPI=sum(Y_warehouse[i] for i in range( 0,n))"
   ]
  },
  {
   "cell_type": "code",
   "execution_count": 36,
   "metadata": {},
   "outputs": [
    {
     "data": {
      "text/plain": [
       "0"
      ]
     },
     "execution_count": 36,
     "metadata": {},
     "output_type": "execute_result"
    }
   ],
   "source": [
    "solver.Minimize(KPI)\n",
    "#Y_warehouse[89]\n",
    "solver.Solve()\n",
    "\n"
   ]
  },
  {
   "cell_type": "code",
   "execution_count": 37,
   "metadata": {},
   "outputs": [
    {
     "data": {
      "text/plain": [
       "165.0"
      ]
     },
     "execution_count": 37,
     "metadata": {},
     "output_type": "execute_result"
    }
   ],
   "source": [
    "solver.Objective().Value()"
   ]
  },
  {
   "cell_type": "code",
   "execution_count": 38,
   "metadata": {},
   "outputs": [
    {
     "data": {
      "text/plain": [
       "0"
      ]
     },
     "execution_count": 38,
     "metadata": {},
     "output_type": "execute_result"
    }
   ],
   "source": [
    "solver.OPTIMAL"
   ]
  },
  {
   "cell_type": "markdown",
   "metadata": {},
   "source": [
    "Y_parked"
   ]
  },
  {
   "cell_type": "code",
   "execution_count": 39,
   "metadata": {},
   "outputs": [],
   "source": [
    "Y_warehouse_solution=[Y_warehouse[i].solution_value() for i in range(0,n)]\n",
    "x_load_solution=[x_load[i].solution_value() for i in range(0,n)]\n",
    "Y_parked_solution=[Y_parked[i].solution_value() for i in range(0,n)]\n",
    "x_hoist_solution=[x_hoist[i].solution_value() for i in range(0,n)]\n",
    "Y_hoisted_solution=[Y_hoisted[i].solution_value() for i in range(0,n)]\n",
    "x_install_solution=[x_install[i].solution_value() for i in range(0,n)]\n",
    "Y_installed_solution=[Y_installed[i].solution_value() for i in range(0,n)]\n",
    " \n",
    " "
   ]
  },
  {
   "cell_type": "code",
   "execution_count": 40,
   "metadata": {},
   "outputs": [
    {
     "data": {
      "image/png": "[encoded data removed]",
      "text/plain": [
       "<Figure size 720x504 with 8 Axes>"
      ]
     },
     "metadata": {
      "needs_background": "light"
     },
     "output_type": "display_data"
    }
   ],
   "source": [
    "fig, ax = plt.subplots(4, 2 ,figsize= (10,7) )\n",
    "\n",
    "ax[0,0].plot(Y_warehouse_solution)\n",
    "ax[0, 0].set_title(\"Y_warehouse\")\n",
    "\n",
    "ax[0,1].plot(x_load_solution)\n",
    "ax[0,1].set_title(\"x_load\")\n",
    "\n",
    "ax[1,0].plot(Y_parked_solution)\n",
    "ax[1, 0].set_title(\"Y_parked\")\n",
    "\n",
    "ax[1,1].plot(x_hoist_solution)\n",
    "ax[1, 1].set_title(\"x_hoist\")\n",
    "\n",
    "ax[2,0].plot(Y_hoisted_solution)\n",
    "ax[2, 0].set_title(\"Y_hoisted\")\n",
    "\n",
    "ax[2,1].plot(x_install_solution)\n",
    "ax[2, 1].set_title(\"x_install\")\n",
    "\n",
    "ax[3,0].plot(Y_installed_solution)\n",
    "ax[3, 0].set_title(\"Y_installed\")\n",
    "\n",
    "ax[3,1].plot(delivery[\"shipment\"].values)\n",
    "ax[3, 1].set_title(\"X_delivery\")\n",
    "fig.tight_layout()\n",
    "\n",
    " "
   ]
  },
  {
   "cell_type": "code",
   "execution_count": null,
   "metadata": {},
   "outputs": [],
   "source": []
  },
  {
   "cell_type": "code",
   "execution_count": null,
   "metadata": {},
   "outputs": [],
   "source": []
  },
  {
   "cell_type": "code",
   "execution_count": null,
   "metadata": {},
   "outputs": [],
   "source": []
  }
 ],
 "metadata": {
  "interpreter": {
   "hash": "6ca06adef6ebacd0a6930357c45431f5b53a692b77515071540fe922edf7706e"
  },
  "kernelspec": {
   "display_name": "Python 3.7.8 64-bit",
   "name": "python3"
  },
  "language_info": {
   "codemirror_mode": {
    "name": "ipython",
    "version": 3
   },
   "file_extension": ".py",
   "mimetype": "text/x-python",
   "name": "python",
   "nbconvert_exporter": "python",
   "pygments_lexer": "ipython3",
   "version": "3.7.8"
  },
  "nteract": {
   "version": "0.28.0"
  }
 },
 "nbformat": 4,
 "nbformat_minor": 2
}
